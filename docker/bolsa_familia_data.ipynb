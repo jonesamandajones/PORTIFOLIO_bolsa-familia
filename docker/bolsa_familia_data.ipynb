{
 "cells": [
  {
   "cell_type": "code",
   "execution_count": null,
   "metadata": {},
   "outputs": [],
   "source": [
    "import boto3\n",
    "import io\n",
    "import matplotlib.pyplot as plt\n",
    "import numpy as np\n",
    "import pandas as pd\n"
   ]
  },
  {
   "attachments": {},
   "cell_type": "markdown",
   "metadata": {},
   "source": [
    "### Cria nome do arquivo a ser buscado no S3:"
   ]
  },
  {
   "cell_type": "code",
   "execution_count": null,
   "metadata": {},
   "outputs": [],
   "source": [
    "\n",
    "def file_to_get(codigoIbge, mesAno):\n",
    "\n",
    "    file = f'bolsa_familia/codigo_ibge={codigoIbge}/ano={mesAno[:4]}/mes={mesAno[4:]}/data_{codigoIbge}_{mesAno}.json'\n",
    "    return file_name\n"
   ]
  },
  {
   "attachments": {},
   "cell_type": "markdown",
   "metadata": {},
   "source": [
    "### Busca pelo arquivo definido:"
   ]
  },
  {
   "cell_type": "code",
   "execution_count": null,
   "metadata": {},
   "outputs": [],
   "source": [
    "def read_data(file_name):\n",
    "    bucket = 'bucket-bolsa-familia'\n",
    "    s3 = boto3.resource('s3')\n",
    "    object_key = f'bolsa_familia/codigo_ibge={codigoIbge}/ano={mesAno[:4]}/mes={mesAno[4:]}/data_{codigoIbge}_{mesAno}.json'\n",
    "    obj = s3.Object(bucket, object_key)\n",
    "    data = obj.get()['Body'].read()\n",
    "    get_data = pd.read_csv(io.BytesIO(data), header=0, delimiter=',', low_memory=False, usecols=[0])\n",
    "\n",
    "    return get_data"
   ]
  },
  {
   "attachments": {},
   "cell_type": "markdown",
   "metadata": {},
   "source": [
    "### Pegando informações dos arquivos:"
   ]
  },
  {
   "cell_type": "code",
   "execution_count": null,
   "metadata": {},
   "outputs": [],
   "source": [
    "\n",
    "file_name = file_to_get(codigoIbge, mesAno)\n",
    "get_data = read_data(file_name)\n",
    "\n",
    "cod_ibge = get_data['municipio']['codigoIBGE']\n",
    "municipio = get_data['municipio']['nomeIBGE']\n",
    "regiao = get_data['municipio']['nomeRegiao']\n",
    "estado = get_data['municipio']['nomeRegiao']['uf']['nome']\n",
    "valor = get_data['valor']\n",
    "quantidate = get_data['quantidadeBeneficiados']"
   ]
  },
  {
   "cell_type": "code",
   "execution_count": null,
   "metadata": {},
   "outputs": [],
   "source": []
  },
  {
   "cell_type": "code",
   "execution_count": null,
   "metadata": {},
   "outputs": [],
   "source": [
    "x = [0, 2, 4, 6, 7, 9]\n",
    "y = [5, 7, 9, 10, 12]\n",
    "\n",
    "plt.plot(x, y, label='2x', color='red', linewidth=2, marquer='.', linestyle='--', markersize=10, markeredgecolor='blue')\n",
    "\n",
    "plt.title('Um exemplo de gráfico:', fontdict={'fontname': 'Comic Sans MS', 'fontsize': 20})\n",
    "\n",
    "plt.xlabel('X nome')\n",
    "plt.ylabel('Y nome')\n",
    "\n",
    "plt.xticks([0, 1, 2, 3, 6, 9])\n",
    "plt.yticks([5, 7, 9, 10, 12])\n",
    "\n",
    "plt.legend()\n",
    "\n",
    "plt.show()"
   ]
  }
 ],
 "metadata": {
  "language_info": {
   "name": "python"
  },
  "orig_nbformat": 4
 },
 "nbformat": 4,
 "nbformat_minor": 2
}
